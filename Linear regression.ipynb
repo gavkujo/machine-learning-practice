{
 "cells": [
  {
   "cell_type": "code",
   "execution_count": 2,
   "id": "547dc9dc",
   "metadata": {},
   "outputs": [],
   "source": [
    "import pandas as pd \n",
    "import numpy as np \n",
    "import seaborn as sns \n",
    "import matplotlib.pyplot as plt\n",
    "%matplotlib inline \n",
    "import warnings  "
   ]
  },
  {
   "cell_type": "code",
   "execution_count": 3,
   "id": "90a4f501",
   "metadata": {},
   "outputs": [
    {
     "data": {
      "text/html": [
       "<div>\n",
       "<style scoped>\n",
       "    .dataframe tbody tr th:only-of-type {\n",
       "        vertical-align: middle;\n",
       "    }\n",
       "\n",
       "    .dataframe tbody tr th {\n",
       "        vertical-align: top;\n",
       "    }\n",
       "\n",
       "    .dataframe thead th {\n",
       "        text-align: right;\n",
       "    }\n",
       "</style>\n",
       "<table border=\"1\" class=\"dataframe\">\n",
       "  <thead>\n",
       "    <tr style=\"text-align: right;\">\n",
       "      <th></th>\n",
       "      <th>Sale_Price</th>\n",
       "      <th>No of Bedrooms</th>\n",
       "      <th>No of Bathrooms</th>\n",
       "      <th>Flat Area (in Sqft)</th>\n",
       "      <th>Lot Area (in Sqft)</th>\n",
       "      <th>No of Floors</th>\n",
       "      <th>No of Times Visited</th>\n",
       "      <th>Overall Grade</th>\n",
       "      <th>Area of the House from Basement (in Sqft)</th>\n",
       "      <th>Basement Area (in Sqft)</th>\n",
       "      <th>...</th>\n",
       "      <th>Waterfront_View_Yes</th>\n",
       "      <th>Zipcode_Group_Zipcode_Group_1</th>\n",
       "      <th>Zipcode_Group_Zipcode_Group_2</th>\n",
       "      <th>Zipcode_Group_Zipcode_Group_3</th>\n",
       "      <th>Zipcode_Group_Zipcode_Group_4</th>\n",
       "      <th>Zipcode_Group_Zipcode_Group_5</th>\n",
       "      <th>Zipcode_Group_Zipcode_Group_6</th>\n",
       "      <th>Zipcode_Group_Zipcode_Group_7</th>\n",
       "      <th>Zipcode_Group_Zipcode_Group_8</th>\n",
       "      <th>Zipcode_Group_Zipcode_Group_9</th>\n",
       "    </tr>\n",
       "  </thead>\n",
       "  <tbody>\n",
       "    <tr>\n",
       "      <th>0</th>\n",
       "      <td>221900.0</td>\n",
       "      <td>3</td>\n",
       "      <td>1.00</td>\n",
       "      <td>1180.0</td>\n",
       "      <td>5650.0</td>\n",
       "      <td>1.0</td>\n",
       "      <td>0</td>\n",
       "      <td>7</td>\n",
       "      <td>1180.0</td>\n",
       "      <td>0</td>\n",
       "      <td>...</td>\n",
       "      <td>0</td>\n",
       "      <td>0</td>\n",
       "      <td>0</td>\n",
       "      <td>0</td>\n",
       "      <td>0</td>\n",
       "      <td>0</td>\n",
       "      <td>0</td>\n",
       "      <td>0</td>\n",
       "      <td>0</td>\n",
       "      <td>0</td>\n",
       "    </tr>\n",
       "    <tr>\n",
       "      <th>1</th>\n",
       "      <td>538000.0</td>\n",
       "      <td>3</td>\n",
       "      <td>2.25</td>\n",
       "      <td>2570.0</td>\n",
       "      <td>7242.0</td>\n",
       "      <td>2.0</td>\n",
       "      <td>0</td>\n",
       "      <td>7</td>\n",
       "      <td>2170.0</td>\n",
       "      <td>400</td>\n",
       "      <td>...</td>\n",
       "      <td>0</td>\n",
       "      <td>0</td>\n",
       "      <td>1</td>\n",
       "      <td>0</td>\n",
       "      <td>0</td>\n",
       "      <td>0</td>\n",
       "      <td>0</td>\n",
       "      <td>0</td>\n",
       "      <td>0</td>\n",
       "      <td>0</td>\n",
       "    </tr>\n",
       "    <tr>\n",
       "      <th>2</th>\n",
       "      <td>180000.0</td>\n",
       "      <td>2</td>\n",
       "      <td>1.00</td>\n",
       "      <td>770.0</td>\n",
       "      <td>10000.0</td>\n",
       "      <td>1.0</td>\n",
       "      <td>0</td>\n",
       "      <td>6</td>\n",
       "      <td>770.0</td>\n",
       "      <td>0</td>\n",
       "      <td>...</td>\n",
       "      <td>0</td>\n",
       "      <td>0</td>\n",
       "      <td>1</td>\n",
       "      <td>0</td>\n",
       "      <td>0</td>\n",
       "      <td>0</td>\n",
       "      <td>0</td>\n",
       "      <td>0</td>\n",
       "      <td>0</td>\n",
       "      <td>0</td>\n",
       "    </tr>\n",
       "    <tr>\n",
       "      <th>3</th>\n",
       "      <td>604000.0</td>\n",
       "      <td>4</td>\n",
       "      <td>3.00</td>\n",
       "      <td>1960.0</td>\n",
       "      <td>5000.0</td>\n",
       "      <td>1.0</td>\n",
       "      <td>0</td>\n",
       "      <td>7</td>\n",
       "      <td>1050.0</td>\n",
       "      <td>910</td>\n",
       "      <td>...</td>\n",
       "      <td>0</td>\n",
       "      <td>0</td>\n",
       "      <td>0</td>\n",
       "      <td>1</td>\n",
       "      <td>0</td>\n",
       "      <td>0</td>\n",
       "      <td>0</td>\n",
       "      <td>0</td>\n",
       "      <td>0</td>\n",
       "      <td>0</td>\n",
       "    </tr>\n",
       "    <tr>\n",
       "      <th>4</th>\n",
       "      <td>510000.0</td>\n",
       "      <td>3</td>\n",
       "      <td>2.00</td>\n",
       "      <td>1680.0</td>\n",
       "      <td>8080.0</td>\n",
       "      <td>1.0</td>\n",
       "      <td>0</td>\n",
       "      <td>8</td>\n",
       "      <td>1680.0</td>\n",
       "      <td>0</td>\n",
       "      <td>...</td>\n",
       "      <td>0</td>\n",
       "      <td>0</td>\n",
       "      <td>0</td>\n",
       "      <td>0</td>\n",
       "      <td>1</td>\n",
       "      <td>0</td>\n",
       "      <td>0</td>\n",
       "      <td>0</td>\n",
       "      <td>0</td>\n",
       "      <td>0</td>\n",
       "    </tr>\n",
       "  </tbody>\n",
       "</table>\n",
       "<p>5 rows × 31 columns</p>\n",
       "</div>"
      ],
      "text/plain": [
       "   Sale_Price  No of Bedrooms  No of Bathrooms  Flat Area (in Sqft)  \\\n",
       "0    221900.0               3             1.00               1180.0   \n",
       "1    538000.0               3             2.25               2570.0   \n",
       "2    180000.0               2             1.00                770.0   \n",
       "3    604000.0               4             3.00               1960.0   \n",
       "4    510000.0               3             2.00               1680.0   \n",
       "\n",
       "   Lot Area (in Sqft)  No of Floors  No of Times Visited  Overall Grade  \\\n",
       "0              5650.0           1.0                    0              7   \n",
       "1              7242.0           2.0                    0              7   \n",
       "2             10000.0           1.0                    0              6   \n",
       "3              5000.0           1.0                    0              7   \n",
       "4              8080.0           1.0                    0              8   \n",
       "\n",
       "   Area of the House from Basement (in Sqft)  Basement Area (in Sqft)  ...  \\\n",
       "0                                     1180.0                        0  ...   \n",
       "1                                     2170.0                      400  ...   \n",
       "2                                      770.0                        0  ...   \n",
       "3                                     1050.0                      910  ...   \n",
       "4                                     1680.0                        0  ...   \n",
       "\n",
       "   Waterfront_View_Yes  Zipcode_Group_Zipcode_Group_1  \\\n",
       "0                    0                              0   \n",
       "1                    0                              0   \n",
       "2                    0                              0   \n",
       "3                    0                              0   \n",
       "4                    0                              0   \n",
       "\n",
       "   Zipcode_Group_Zipcode_Group_2  Zipcode_Group_Zipcode_Group_3  \\\n",
       "0                              0                              0   \n",
       "1                              1                              0   \n",
       "2                              1                              0   \n",
       "3                              0                              1   \n",
       "4                              0                              0   \n",
       "\n",
       "   Zipcode_Group_Zipcode_Group_4  Zipcode_Group_Zipcode_Group_5  \\\n",
       "0                              0                              0   \n",
       "1                              0                              0   \n",
       "2                              0                              0   \n",
       "3                              0                              0   \n",
       "4                              1                              0   \n",
       "\n",
       "   Zipcode_Group_Zipcode_Group_6  Zipcode_Group_Zipcode_Group_7  \\\n",
       "0                              0                              0   \n",
       "1                              0                              0   \n",
       "2                              0                              0   \n",
       "3                              0                              0   \n",
       "4                              0                              0   \n",
       "\n",
       "   Zipcode_Group_Zipcode_Group_8  Zipcode_Group_Zipcode_Group_9  \n",
       "0                              0                              0  \n",
       "1                              0                              0  \n",
       "2                              0                              0  \n",
       "3                              0                              0  \n",
       "4                              0                              0  \n",
       "\n",
       "[5 rows x 31 columns]"
      ]
     },
     "execution_count": 3,
     "metadata": {},
     "output_type": "execute_result"
    }
   ],
   "source": [
    "data = pd.read_csv('Transformed_Housing_Data2.csv')\n",
    "data.head()"
   ]
  },
  {
   "cell_type": "code",
   "execution_count": 4,
   "id": "f0f7f901",
   "metadata": {},
   "outputs": [
    {
     "data": {
      "text/html": [
       "<div>\n",
       "<style scoped>\n",
       "    .dataframe tbody tr th:only-of-type {\n",
       "        vertical-align: middle;\n",
       "    }\n",
       "\n",
       "    .dataframe tbody tr th {\n",
       "        vertical-align: top;\n",
       "    }\n",
       "\n",
       "    .dataframe thead th {\n",
       "        text-align: right;\n",
       "    }\n",
       "</style>\n",
       "<table border=\"1\" class=\"dataframe\">\n",
       "  <thead>\n",
       "    <tr style=\"text-align: right;\">\n",
       "      <th></th>\n",
       "      <th>sale_price</th>\n",
       "      <th>flat_area</th>\n",
       "    </tr>\n",
       "  </thead>\n",
       "  <tbody>\n",
       "    <tr>\n",
       "      <th>0</th>\n",
       "      <td>221900.0</td>\n",
       "      <td>1180.0</td>\n",
       "    </tr>\n",
       "    <tr>\n",
       "      <th>1</th>\n",
       "      <td>538000.0</td>\n",
       "      <td>2570.0</td>\n",
       "    </tr>\n",
       "    <tr>\n",
       "      <th>2</th>\n",
       "      <td>180000.0</td>\n",
       "      <td>770.0</td>\n",
       "    </tr>\n",
       "    <tr>\n",
       "      <th>3</th>\n",
       "      <td>604000.0</td>\n",
       "      <td>1960.0</td>\n",
       "    </tr>\n",
       "    <tr>\n",
       "      <th>4</th>\n",
       "      <td>510000.0</td>\n",
       "      <td>1680.0</td>\n",
       "    </tr>\n",
       "    <tr>\n",
       "      <th>5</th>\n",
       "      <td>1129575.0</td>\n",
       "      <td>5420.0</td>\n",
       "    </tr>\n",
       "    <tr>\n",
       "      <th>6</th>\n",
       "      <td>257500.0</td>\n",
       "      <td>1715.0</td>\n",
       "    </tr>\n",
       "    <tr>\n",
       "      <th>7</th>\n",
       "      <td>291850.0</td>\n",
       "      <td>1060.0</td>\n",
       "    </tr>\n",
       "    <tr>\n",
       "      <th>8</th>\n",
       "      <td>229500.0</td>\n",
       "      <td>1780.0</td>\n",
       "    </tr>\n",
       "    <tr>\n",
       "      <th>9</th>\n",
       "      <td>323000.0</td>\n",
       "      <td>1890.0</td>\n",
       "    </tr>\n",
       "    <tr>\n",
       "      <th>10</th>\n",
       "      <td>662500.0</td>\n",
       "      <td>3560.0</td>\n",
       "    </tr>\n",
       "    <tr>\n",
       "      <th>11</th>\n",
       "      <td>468000.0</td>\n",
       "      <td>1160.0</td>\n",
       "    </tr>\n",
       "    <tr>\n",
       "      <th>12</th>\n",
       "      <td>310000.0</td>\n",
       "      <td>1430.0</td>\n",
       "    </tr>\n",
       "    <tr>\n",
       "      <th>13</th>\n",
       "      <td>400000.0</td>\n",
       "      <td>1370.0</td>\n",
       "    </tr>\n",
       "    <tr>\n",
       "      <th>14</th>\n",
       "      <td>530000.0</td>\n",
       "      <td>1810.0</td>\n",
       "    </tr>\n",
       "    <tr>\n",
       "      <th>15</th>\n",
       "      <td>650000.0</td>\n",
       "      <td>2950.0</td>\n",
       "    </tr>\n",
       "    <tr>\n",
       "      <th>16</th>\n",
       "      <td>395000.0</td>\n",
       "      <td>1890.0</td>\n",
       "    </tr>\n",
       "    <tr>\n",
       "      <th>17</th>\n",
       "      <td>485000.0</td>\n",
       "      <td>1600.0</td>\n",
       "    </tr>\n",
       "    <tr>\n",
       "      <th>18</th>\n",
       "      <td>189000.0</td>\n",
       "      <td>1200.0</td>\n",
       "    </tr>\n",
       "    <tr>\n",
       "      <th>19</th>\n",
       "      <td>230000.0</td>\n",
       "      <td>1250.0</td>\n",
       "    </tr>\n",
       "    <tr>\n",
       "      <th>20</th>\n",
       "      <td>385000.0</td>\n",
       "      <td>1620.0</td>\n",
       "    </tr>\n",
       "    <tr>\n",
       "      <th>21</th>\n",
       "      <td>1129575.0</td>\n",
       "      <td>3050.0</td>\n",
       "    </tr>\n",
       "    <tr>\n",
       "      <th>22</th>\n",
       "      <td>285000.0</td>\n",
       "      <td>2270.0</td>\n",
       "    </tr>\n",
       "    <tr>\n",
       "      <th>23</th>\n",
       "      <td>252700.0</td>\n",
       "      <td>1070.0</td>\n",
       "    </tr>\n",
       "    <tr>\n",
       "      <th>24</th>\n",
       "      <td>329000.0</td>\n",
       "      <td>2450.0</td>\n",
       "    </tr>\n",
       "    <tr>\n",
       "      <th>25</th>\n",
       "      <td>233000.0</td>\n",
       "      <td>1710.0</td>\n",
       "    </tr>\n",
       "    <tr>\n",
       "      <th>26</th>\n",
       "      <td>937000.0</td>\n",
       "      <td>2450.0</td>\n",
       "    </tr>\n",
       "    <tr>\n",
       "      <th>27</th>\n",
       "      <td>667000.0</td>\n",
       "      <td>1400.0</td>\n",
       "    </tr>\n",
       "    <tr>\n",
       "      <th>28</th>\n",
       "      <td>438000.0</td>\n",
       "      <td>1520.0</td>\n",
       "    </tr>\n",
       "    <tr>\n",
       "      <th>29</th>\n",
       "      <td>719000.0</td>\n",
       "      <td>2570.0</td>\n",
       "    </tr>\n",
       "  </tbody>\n",
       "</table>\n",
       "</div>"
      ],
      "text/plain": [
       "    sale_price  flat_area\n",
       "0     221900.0     1180.0\n",
       "1     538000.0     2570.0\n",
       "2     180000.0      770.0\n",
       "3     604000.0     1960.0\n",
       "4     510000.0     1680.0\n",
       "5    1129575.0     5420.0\n",
       "6     257500.0     1715.0\n",
       "7     291850.0     1060.0\n",
       "8     229500.0     1780.0\n",
       "9     323000.0     1890.0\n",
       "10    662500.0     3560.0\n",
       "11    468000.0     1160.0\n",
       "12    310000.0     1430.0\n",
       "13    400000.0     1370.0\n",
       "14    530000.0     1810.0\n",
       "15    650000.0     2950.0\n",
       "16    395000.0     1890.0\n",
       "17    485000.0     1600.0\n",
       "18    189000.0     1200.0\n",
       "19    230000.0     1250.0\n",
       "20    385000.0     1620.0\n",
       "21   1129575.0     3050.0\n",
       "22    285000.0     2270.0\n",
       "23    252700.0     1070.0\n",
       "24    329000.0     2450.0\n",
       "25    233000.0     1710.0\n",
       "26    937000.0     2450.0\n",
       "27    667000.0     1400.0\n",
       "28    438000.0     1520.0\n",
       "29    719000.0     2570.0"
      ]
     },
     "execution_count": 4,
     "metadata": {},
     "output_type": "execute_result"
    }
   ],
   "source": [
    "sale_price = data[\"Sale_Price\"].head(30)\n",
    "flat_area = data[\"Flat Area (in Sqft)\"].head(30)\n",
    "sampledata = pd.DataFrame({\"sale_price\": sale_price, \"flat_area\": flat_area}) # we create a new dataframe with these 30 rows and flat area and sale price as data\n",
    "sampledata"
   ]
  },
  {
   "cell_type": "code",
   "execution_count": 5,
   "id": "3bf8862a",
   "metadata": {},
   "outputs": [
    {
     "data": {
      "image/png": "[encoded data removed]",
      "text/plain": [
       "<Figure size 600x400 with 1 Axes>"
      ]
     },
     "metadata": {
      "needs_background": "light"
     },
     "output_type": "display_data"
    }
   ],
   "source": [
    "plt.figure( dpi = 100)\n",
    "plt.scatter(sampledata.flat_area, sampledata.sale_price, color = 'red', label = 'sale_price')\n",
    "plt.xlabel('Flat_Area')\n",
    "plt.ylabel('Sale_Price')\n",
    "plt.title(\"Sale_Price/Flat_Area\")\n",
    "plt.legend()\n",
    "plt.show()\n",
    "#from the below graph we can roughly figure out a straight line which potrays the relationship b/w sale price and flat area."
   ]
  },
  {
   "cell_type": "code",
   "execution_count": 6,
   "id": "5e457a83",
   "metadata": {},
   "outputs": [
    {
     "data": {
      "image/png": "[encoded data removed]",
      "text/plain": [
       "<Figure size 900x600 with 1 Axes>"
      ]
     },
     "metadata": {
      "needs_background": "light"
     },
     "output_type": "display_data"
    }
   ],
   "source": [
    "sampledata['mean_sale_price'] = sampledata.sale_price.mean()\n",
    "#new column where mean of the sale price is calculated\n",
    "\n",
    "plt.figure( dpi = 150)\n",
    "plt.scatter(sampledata.flat_area, sampledata.sale_price, color = 'red')\n",
    "plt.plot(sampledata.flat_area, sampledata.mean_sale_price, color = \"blue\", label = 'Mean Sale Price')\n",
    "# plotting the line for mean of the sale price \n",
    "plt.xlabel('Flat_Area')\n",
    "plt.ylabel('Sale_Price')\n",
    "plt.title(\"Sale_Price/Flat_Area\")\n",
    "plt.legend()\n",
    "plt.show()"
   ]
  },
  {
   "cell_type": "markdown",
   "id": "10835b2a",
   "metadata": {},
   "source": [
    "Now you can see that according to this simple mean model, flat area of 2000 and 5000 sqft will be sold for the same price, which is obviously not possible. \n",
    "\n",
    "We know that sale price and flat are are corellated and with the help of that we can generalise and draw a line (slanted line) [check physical notes]. Here sale price for 2000 and 5000 sqft is different. Therefore this regression/model is more accurate than the simple mean model\n",
    "(even though that model may be like 2% accurate but a simple mean model is ALWAYS 0% accurate in 99.999% of cases)\n",
    "\n",
    "<h3>how to know how accurate is the model?</h3>\n",
    "\n",
    "model is nothing but a line btw\n",
    "eqn of line => y = mx+c (x = independant var, y = dependant var (as in the value of y depends on x, look at the eqn), c = y intercept)\n",
    "\n",
    "take 3 lines with 3 diff values of c but m is same,\n",
    "the rate at which y changes wrt x is the same\n",
    "\n",
    "but when m is diff and c is the same,\n",
    "the rate at which y changes wrt x is diff"
   ]
  },
  {
   "cell_type": "code",
   "execution_count": 7,
   "id": "4f2cfbc4",
   "metadata": {},
   "outputs": [
    {
     "data": {
      "text/plain": [
       "Text(0.5, 1.0, 'slope 0 with mse 281372081125.0')"
      ]
     },
     "execution_count": 7,
     "metadata": {},
     "output_type": "execute_result"
    },
    {
     "data": {
      "image/png": "[encoded data removed]",
      "text/plain": [
       "<Figure size 600x400 with 1 Axes>"
      ]
     },
     "metadata": {
      "needs_background": "light"
     },
     "output_type": "display_data"
    }
   ],
   "source": [
    "from sklearn.metrics import mean_squared_error\n",
    "c = 0\n",
    "m = 0\n",
    "line = []\n",
    "for i in range (len(sampledata)):\n",
    "    line.append(sampledata.flat_area[i]*m +c)\n",
    "\n",
    "plt.figure(dpi = 100)\n",
    "plt.scatter(sampledata.flat_area, sampledata.sale_price, color = \"green\")\n",
    "plt.plot(sampledata.flat_area, line, label = \"m = 0.0, c = 0.0\")\n",
    "plt.xlabel('flat area')\n",
    "plt.ylabel('sale price')\n",
    "plt.legend()\n",
    "MSE = mean_squared_error(sampledata.sale_price, line)\n",
    "plt.title(\"slope \"+str(m)+\" with mse \"+ str(MSE))"
   ]
  },
  {
   "cell_type": "markdown",
   "id": "0b647619",
   "metadata": {},
   "source": [
    "as you can see here the line models the data very poorly and the mse is very very large"
   ]
  },
  {
   "cell_type": "code",
   "execution_count": 8,
   "id": "b4ef0abe",
   "metadata": {},
   "outputs": [
    {
     "data": {
      "text/plain": [
       "Text(0.5, 1.0, 'slope 75 with mse 145064012062.5')"
      ]
     },
     "execution_count": 8,
     "metadata": {},
     "output_type": "execute_result"
    },
    {
     "data": {
      "image/png": "[encoded data removed]",
      "text/plain": [
       "<Figure size 600x400 with 1 Axes>"
      ]
     },
     "metadata": {
      "needs_background": "light"
     },
     "output_type": "display_data"
    }
   ],
   "source": [
    "from sklearn.metrics import mean_squared_error\n",
    "c = 0\n",
    "m = 75\n",
    "line = []\n",
    "for i in range (len(sampledata)):\n",
    "    line.append(sampledata.flat_area[i]*m +c)\n",
    "\n",
    "plt.figure(dpi = 100)\n",
    "plt.scatter(sampledata.flat_area, sampledata.sale_price, color = \"green\")\n",
    "plt.plot(sampledata.flat_area, line, label = \"m = 0.0, c = 0\")\n",
    "plt.xlabel('flat area')\n",
    "plt.ylabel('sale price')\n",
    "plt.legend()\n",
    "MSE = mean_squared_error(sampledata.sale_price, line)\n",
    "plt.title(\"slope \"+str(m)+\" with mse \"+ str(MSE))"
   ]
  },
  {
   "cell_type": "markdown",
   "id": "8748f6ae",
   "metadata": {},
   "source": [
    "again this model is better but we do know that there may be better models that this so we would have to do this step repeatedly to achieve the best one."
   ]
  },
  {
   "cell_type": "code",
   "execution_count": 9,
   "id": "6e7c46ff",
   "metadata": {},
   "outputs": [],
   "source": [
    "def slope_error(slope, intercept, sampledata):\n",
    "    sale = [] # we will store the points predicted by the line with slope m\n",
    "    # for every pt in the sampledata.flat_area, we calculate the predicted point and store it in the list sale.\n",
    "    for i in range(len(sampledata.flat_area)):\n",
    "        tmp = sampledata.flat_area[i]*slope + intercept\n",
    "        sale.append(tmp)\n",
    "    MSE = mean_squared_error(sampledata.sale_price, sale) # sampledata.sale_price becomes the actual and the sale becomes the predicted point. difference of that is the residual.\n",
    "    return MSE"
   ]
  },
  {
   "cell_type": "code",
   "execution_count": 10,
   "id": "d17dd6a0",
   "metadata": {},
   "outputs": [],
   "source": [
    "slope = [i/10 for i in range(0,5000)] #i/10 is the step size. that means i will go to 5000 in steps of 0.1\n",
    "# ie i will go from 0.1 to 4999.9\n",
    "costlist = [] # will store the value returned by cost for every slope value\n",
    "for i in slope:\n",
    "    cost = slope_error(slope = i, intercept = 0 , sampledata = sampledata)\n",
    "    costlist.append(cost)"
   ]
  },
  {
   "cell_type": "code",
   "execution_count": 11,
   "id": "85c7b016",
   "metadata": {},
   "outputs": [
    {
     "data": {
      "text/html": [
       "<div>\n",
       "<style scoped>\n",
       "    .dataframe tbody tr th:only-of-type {\n",
       "        vertical-align: middle;\n",
       "    }\n",
       "\n",
       "    .dataframe tbody tr th {\n",
       "        vertical-align: top;\n",
       "    }\n",
       "\n",
       "    .dataframe thead th {\n",
       "        text-align: right;\n",
       "    }\n",
       "</style>\n",
       "<table border=\"1\" class=\"dataframe\">\n",
       "  <thead>\n",
       "    <tr style=\"text-align: right;\">\n",
       "      <th></th>\n",
       "      <th>slope</th>\n",
       "      <th>costlist</th>\n",
       "    </tr>\n",
       "  </thead>\n",
       "  <tbody>\n",
       "    <tr>\n",
       "      <th>0</th>\n",
       "      <td>0.0</td>\n",
       "      <td>2.813721e+11</td>\n",
       "    </tr>\n",
       "    <tr>\n",
       "      <th>1</th>\n",
       "      <td>0.1</td>\n",
       "      <td>2.811558e+11</td>\n",
       "    </tr>\n",
       "    <tr>\n",
       "      <th>2</th>\n",
       "      <td>0.2</td>\n",
       "      <td>2.809395e+11</td>\n",
       "    </tr>\n",
       "    <tr>\n",
       "      <th>3</th>\n",
       "      <td>0.3</td>\n",
       "      <td>2.807234e+11</td>\n",
       "    </tr>\n",
       "    <tr>\n",
       "      <th>4</th>\n",
       "      <td>0.4</td>\n",
       "      <td>2.805073e+11</td>\n",
       "    </tr>\n",
       "    <tr>\n",
       "      <th>...</th>\n",
       "      <td>...</td>\n",
       "      <td>...</td>\n",
       "    </tr>\n",
       "    <tr>\n",
       "      <th>295</th>\n",
       "      <td>29.5</td>\n",
       "      <td>2.215600e+11</td>\n",
       "    </tr>\n",
       "    <tr>\n",
       "      <th>296</th>\n",
       "      <td>29.6</td>\n",
       "      <td>2.213709e+11</td>\n",
       "    </tr>\n",
       "    <tr>\n",
       "      <th>297</th>\n",
       "      <td>29.7</td>\n",
       "      <td>2.211819e+11</td>\n",
       "    </tr>\n",
       "    <tr>\n",
       "      <th>298</th>\n",
       "      <td>29.8</td>\n",
       "      <td>2.209930e+11</td>\n",
       "    </tr>\n",
       "    <tr>\n",
       "      <th>299</th>\n",
       "      <td>29.9</td>\n",
       "      <td>2.208042e+11</td>\n",
       "    </tr>\n",
       "  </tbody>\n",
       "</table>\n",
       "<p>300 rows × 2 columns</p>\n",
       "</div>"
      ],
      "text/plain": [
       "     slope      costlist\n",
       "0      0.0  2.813721e+11\n",
       "1      0.1  2.811558e+11\n",
       "2      0.2  2.809395e+11\n",
       "3      0.3  2.807234e+11\n",
       "4      0.4  2.805073e+11\n",
       "..     ...           ...\n",
       "295   29.5  2.215600e+11\n",
       "296   29.6  2.213709e+11\n",
       "297   29.7  2.211819e+11\n",
       "298   29.8  2.209930e+11\n",
       "299   29.9  2.208042e+11\n",
       "\n",
       "[300 rows x 2 columns]"
      ]
     },
     "execution_count": 11,
     "metadata": {},
     "output_type": "execute_result"
    }
   ],
   "source": [
    "# Arranging in DataFrame\n",
    "cost_table = pd.DataFrame({\n",
    "    'slope' : slope,\n",
    "    'costlist' : costlist\n",
    "})\n",
    "cost_table.head(300)"
   ]
  },
  {
   "cell_type": "code",
   "execution_count": 12,
   "id": "8df4bde3",
   "metadata": {},
   "outputs": [
    {
     "data": {
      "text/plain": [
       "<matplotlib.legend.Legend at 0x7fc7d84b8580>"
      ]
     },
     "execution_count": 12,
     "metadata": {},
     "output_type": "execute_result"
    },
    {
     "data": {
      "image/png": "[encoded data removed]",
      "text/plain": [
       "<Figure size 432x288 with 1 Axes>"
      ]
     },
     "metadata": {
      "needs_background": "light"
     },
     "output_type": "display_data"
    }
   ],
   "source": [
    "# plotting the cost values corresponding to every value of Beta\n",
    "plt.plot(cost_table.slope, cost_table.costlist, label = 'Cost Function Curve')\n",
    "plt.xlabel('Value of slope')\n",
    "plt.ylabel('Cost')\n",
    "plt.legend()\n",
    "\n",
    "# value of slope vs MSE graph"
   ]
  },
  {
   "cell_type": "markdown",
   "id": "bbb5a5fc",
   "metadata": {},
   "source": [
    "noe we can say approx 225 slope will give us the lowest error, but that is not correct. we also have to see wrt the intercept c.\n",
    "\n",
    "taking both m, c into account we would get a 3d curve [check nb or 3dgraph.png]"
   ]
  },
  {
   "cell_type": "code",
   "execution_count": 13,
   "id": "460aa8aa",
   "metadata": {},
   "outputs": [],
   "source": [
    "# we are finding the error wrt intercept c now\n",
    "def intercept_error(slope, intercept, sampledata):\n",
    "    sale = [] # we will store the points predicted by the line with intercept c\n",
    "    # for every pt in the sampledata.flat_area, we calculate the predicted point and store it in the list sale.\n",
    "    for i in range(len(sampledata.flat_area)):\n",
    "        tmp = sampledata.flat_area[i]*slope + intercept\n",
    "        sale.append(tmp)\n",
    "    MSE = mean_squared_error(sampledata.sale_price, sale) # sampledata.sale_price becomes the actual and the sale becomes the predicted point. difference of that is the residual.\n",
    "    return MSE"
   ]
  },
  {
   "cell_type": "code",
   "execution_count": 15,
   "id": "ab05e47d",
   "metadata": {},
   "outputs": [],
   "source": [
    "intercept = [i for i in range(5000,50000)]\n",
    "costlist = []\n",
    "for i in intercept:\n",
    "    cost = intercept_error(slope = 234, intercept = i, sampledata = sampledata)\n",
    "    costlist.append(cost)\n"
   ]
  },
  {
   "cell_type": "code",
   "execution_count": 23,
   "id": "612327e5",
   "metadata": {},
   "outputs": [
    {
     "data": {
      "text/html": [
       "<div>\n",
       "<style scoped>\n",
       "    .dataframe tbody tr th:only-of-type {\n",
       "        vertical-align: middle;\n",
       "    }\n",
       "\n",
       "    .dataframe tbody tr th {\n",
       "        vertical-align: top;\n",
       "    }\n",
       "\n",
       "    .dataframe thead th {\n",
       "        text-align: right;\n",
       "    }\n",
       "</style>\n",
       "<table border=\"1\" class=\"dataframe\">\n",
       "  <thead>\n",
       "    <tr style=\"text-align: right;\">\n",
       "      <th></th>\n",
       "      <th>intercept</th>\n",
       "      <th>costlist</th>\n",
       "    </tr>\n",
       "  </thead>\n",
       "  <tbody>\n",
       "    <tr>\n",
       "      <th>44995</th>\n",
       "      <td>49995</td>\n",
       "      <td>2.929862e+10</td>\n",
       "    </tr>\n",
       "    <tr>\n",
       "      <th>44996</th>\n",
       "      <td>49996</td>\n",
       "      <td>2.929870e+10</td>\n",
       "    </tr>\n",
       "    <tr>\n",
       "      <th>44997</th>\n",
       "      <td>49997</td>\n",
       "      <td>2.929878e+10</td>\n",
       "    </tr>\n",
       "    <tr>\n",
       "      <th>44998</th>\n",
       "      <td>49998</td>\n",
       "      <td>2.929886e+10</td>\n",
       "    </tr>\n",
       "    <tr>\n",
       "      <th>44999</th>\n",
       "      <td>49999</td>\n",
       "      <td>2.929894e+10</td>\n",
       "    </tr>\n",
       "  </tbody>\n",
       "</table>\n",
       "</div>"
      ],
      "text/plain": [
       "       intercept      costlist\n",
       "44995      49995  2.929862e+10\n",
       "44996      49996  2.929870e+10\n",
       "44997      49997  2.929878e+10\n",
       "44998      49998  2.929886e+10\n",
       "44999      49999  2.929894e+10"
      ]
     },
     "execution_count": 23,
     "metadata": {},
     "output_type": "execute_result"
    }
   ],
   "source": [
    "cost_table = pd.DataFrame({\n",
    "    'intercept' : intercept,\n",
    "    'costlist' : costlist\n",
    "})\n",
    "cost_table.tail()"
   ]
  },
  {
   "cell_type": "code",
   "execution_count": 17,
   "id": "94cc5559",
   "metadata": {},
   "outputs": [
    {
     "data": {
      "text/plain": [
       "<matplotlib.legend.Legend at 0x7fc7e8803fa0>"
      ]
     },
     "execution_count": 17,
     "metadata": {},
     "output_type": "execute_result"
    },
    {
     "data": {
      "image/png": "[encoded data removed]",
      "text/plain": [
       "<Figure size 432x288 with 1 Axes>"
      ]
     },
     "metadata": {
      "needs_background": "light"
     },
     "output_type": "display_data"
    }
   ],
   "source": [
    "# plotting the cost values corresponding to every value of Beta\n",
    "plt.plot(cost_table.intercept, cost_table.costlist, label = 'Cost Function Curve')\n",
    "plt.xlabel('Value of intercept')\n",
    "plt.ylabel('Cost')\n",
    "plt.legend()"
   ]
  },
  {
   "cell_type": "markdown",
   "id": "aced308d",
   "metadata": {},
   "source": [
    "now we also know the value of c which will give us the minimum error"
   ]
  },
  {
   "cell_type": "code",
   "execution_count": 22,
   "id": "ef418596",
   "metadata": {},
   "outputs": [
    {
     "data": {
      "text/plain": [
       "10834"
      ]
     },
     "execution_count": 22,
     "metadata": {},
     "output_type": "execute_result"
    }
   ],
   "source": [
    "# value of c that will give minimum error\n",
    "new_intercept = cost_table['intercept'][cost_table['costlist'] == cost_table['costlist'].min()].values\n",
    "new_intercept[0]"
   ]
  },
  {
   "cell_type": "code",
   "execution_count": 24,
   "id": "91955aa5",
   "metadata": {},
   "outputs": [],
   "source": [
    "#we repeat the step where we find the correct value of m but this time we keep c = 10834\n",
    "slope = [i/10 for i in range(0,5000)]\n",
    "costlist = []\n",
    "for i in slope:\n",
    "    cost = slope_error( slope = i, intercept = 10834, sampledata = sampledata)\n",
    "    costlist.append(cost)"
   ]
  },
  {
   "cell_type": "code",
   "execution_count": 25,
   "id": "a25d5089",
   "metadata": {},
   "outputs": [
    {
     "data": {
      "text/html": [
       "<div>\n",
       "<style scoped>\n",
       "    .dataframe tbody tr th:only-of-type {\n",
       "        vertical-align: middle;\n",
       "    }\n",
       "\n",
       "    .dataframe tbody tr th {\n",
       "        vertical-align: top;\n",
       "    }\n",
       "\n",
       "    .dataframe thead th {\n",
       "        text-align: right;\n",
       "    }\n",
       "</style>\n",
       "<table border=\"1\" class=\"dataframe\">\n",
       "  <thead>\n",
       "    <tr style=\"text-align: right;\">\n",
       "      <th></th>\n",
       "      <th>slope</th>\n",
       "      <th>costlist</th>\n",
       "    </tr>\n",
       "  </thead>\n",
       "  <tbody>\n",
       "    <tr>\n",
       "      <th>4995</th>\n",
       "      <td>499.5</td>\n",
       "      <td>3.636767e+11</td>\n",
       "    </tr>\n",
       "    <tr>\n",
       "      <th>4996</th>\n",
       "      <td>499.6</td>\n",
       "      <td>3.639259e+11</td>\n",
       "    </tr>\n",
       "    <tr>\n",
       "      <th>4997</th>\n",
       "      <td>499.7</td>\n",
       "      <td>3.641751e+11</td>\n",
       "    </tr>\n",
       "    <tr>\n",
       "      <th>4998</th>\n",
       "      <td>499.8</td>\n",
       "      <td>3.644245e+11</td>\n",
       "    </tr>\n",
       "    <tr>\n",
       "      <th>4999</th>\n",
       "      <td>499.9</td>\n",
       "      <td>3.646739e+11</td>\n",
       "    </tr>\n",
       "  </tbody>\n",
       "</table>\n",
       "</div>"
      ],
      "text/plain": [
       "      slope      costlist\n",
       "4995  499.5  3.636767e+11\n",
       "4996  499.6  3.639259e+11\n",
       "4997  499.7  3.641751e+11\n",
       "4998  499.8  3.644245e+11\n",
       "4999  499.9  3.646739e+11"
      ]
     },
     "execution_count": 25,
     "metadata": {},
     "output_type": "execute_result"
    }
   ],
   "source": [
    "# Arranging in DataFrame\n",
    "cost_table = pd.DataFrame({\n",
    "    'slope' : slope,\n",
    "    'costlist' : costlist\n",
    "})\n",
    "cost_table.tail()"
   ]
  },
  {
   "cell_type": "code",
   "execution_count": 26,
   "id": "1fbcb8c3",
   "metadata": {},
   "outputs": [
    {
     "data": {
      "text/plain": [
       "<matplotlib.legend.Legend at 0x7fc7e8898220>"
      ]
     },
     "execution_count": 26,
     "metadata": {},
     "output_type": "execute_result"
    },
    {
     "data": {
      "image/png": "[encoded data removed]",
      "text/plain": [
       "<Figure size 432x288 with 1 Axes>"
      ]
     },
     "metadata": {
      "needs_background": "light"
     },
     "output_type": "display_data"
    }
   ],
   "source": [
    "# plotting the cost values corresponding to every value of Beta\n",
    "plt.plot(cost_table.slope, cost_table.costlist, label = 'Cost Function Curve')\n",
    "plt.xlabel('Value of slope')\n",
    "plt.ylabel('costlist')\n",
    "plt.legend()"
   ]
  },
  {
   "cell_type": "code",
   "execution_count": 27,
   "id": "387005dd",
   "metadata": {},
   "outputs": [
    {
     "data": {
      "text/plain": [
       "229.7"
      ]
     },
     "execution_count": 27,
     "metadata": {},
     "output_type": "execute_result"
    }
   ],
   "source": [
    "#optimum value of slope is now found\n",
    "new_slope = cost_table['slope'][cost_table['costlist'] == cost_table['costlist'].min()].values\n",
    "new_slope[0]"
   ]
  },
  {
   "cell_type": "code",
   "execution_count": 28,
   "id": "cb18c957",
   "metadata": {},
   "outputs": [],
   "source": [
    "# now finding optimum value of c using new value of m\n",
    "intercept = [i for i in range(5000,50000)]\n",
    "Cost = []\n",
    "for i in intercept:\n",
    "    cost = intercept_error( slope = 229.7, intercept = i, sampledata = sampledata)\n",
    "    Cost.append(cost)"
   ]
  },
  {
   "cell_type": "code",
   "execution_count": 29,
   "id": "64d90352",
   "metadata": {},
   "outputs": [
    {
     "data": {
      "text/html": [
       "<div>\n",
       "<style scoped>\n",
       "    .dataframe tbody tr th:only-of-type {\n",
       "        vertical-align: middle;\n",
       "    }\n",
       "\n",
       "    .dataframe tbody tr th {\n",
       "        vertical-align: top;\n",
       "    }\n",
       "\n",
       "    .dataframe thead th {\n",
       "        text-align: right;\n",
       "    }\n",
       "</style>\n",
       "<table border=\"1\" class=\"dataframe\">\n",
       "  <thead>\n",
       "    <tr style=\"text-align: right;\">\n",
       "      <th></th>\n",
       "      <th>intercept</th>\n",
       "      <th>Cost</th>\n",
       "    </tr>\n",
       "  </thead>\n",
       "  <tbody>\n",
       "    <tr>\n",
       "      <th>0</th>\n",
       "      <td>5000</td>\n",
       "      <td>2.781305e+10</td>\n",
       "    </tr>\n",
       "    <tr>\n",
       "      <th>1</th>\n",
       "      <td>5001</td>\n",
       "      <td>2.781302e+10</td>\n",
       "    </tr>\n",
       "    <tr>\n",
       "      <th>2</th>\n",
       "      <td>5002</td>\n",
       "      <td>2.781299e+10</td>\n",
       "    </tr>\n",
       "    <tr>\n",
       "      <th>3</th>\n",
       "      <td>5003</td>\n",
       "      <td>2.781296e+10</td>\n",
       "    </tr>\n",
       "    <tr>\n",
       "      <th>4</th>\n",
       "      <td>5004</td>\n",
       "      <td>2.781293e+10</td>\n",
       "    </tr>\n",
       "  </tbody>\n",
       "</table>\n",
       "</div>"
      ],
      "text/plain": [
       "   intercept          Cost\n",
       "0       5000  2.781305e+10\n",
       "1       5001  2.781302e+10\n",
       "2       5002  2.781299e+10\n",
       "3       5003  2.781296e+10\n",
       "4       5004  2.781293e+10"
      ]
     },
     "execution_count": 29,
     "metadata": {},
     "output_type": "execute_result"
    }
   ],
   "source": [
    "# Arranging in DataFrame\n",
    "Cost_table = pd.DataFrame({\n",
    "    'intercept' : intercept,\n",
    "    'Cost' : Cost\n",
    "})\n",
    "Cost_table.head()"
   ]
  },
  {
   "cell_type": "code",
   "execution_count": 30,
   "id": "25fec40b",
   "metadata": {},
   "outputs": [
    {
     "data": {
      "text/plain": [
       "<matplotlib.legend.Legend at 0x7fc808f0b5e0>"
      ]
     },
     "execution_count": 30,
     "metadata": {},
     "output_type": "execute_result"
    },
    {
     "data": {
      "image/png": "[encoded data removed]",
      "text/plain": [
       "<Figure size 432x288 with 1 Axes>"
      ]
     },
     "metadata": {
      "needs_background": "light"
     },
     "output_type": "display_data"
    }
   ],
   "source": [
    "# plotting the cost values corresponding to every value of Beta\n",
    "plt.plot(Cost_table.intercept, Cost_table.Cost, label = 'Cost Function Curve')\n",
    "plt.xlabel('Value of intercept')\n",
    "plt.ylabel('Cost')\n",
    "plt.legend()"
   ]
  },
  {
   "cell_type": "code",
   "execution_count": 31,
   "id": "4a0f19d2",
   "metadata": {},
   "outputs": [
    {
     "data": {
      "text/plain": [
       "19199"
      ]
     },
     "execution_count": 31,
     "metadata": {},
     "output_type": "execute_result"
    }
   ],
   "source": [
    "new_intercept = Cost_table['intercept'][Cost_table['Cost'] == Cost_table['Cost'].min()].values\n",
    "new_intercept[0]"
   ]
  },
  {
   "cell_type": "markdown",
   "id": "db2b1e15",
   "metadata": {},
   "source": [
    "now we repeat this step a few times until we reach a consistent same value of c and m\n",
    "\n",
    "in this case its c = 39428, m = 219\n",
    "\n",
    "hence best fit line -> y = 219x + 39428\n",
    "\n",
    "Now we have found the best fit line for our data\n",
    "\n",
    "but this was only possible because we only had one variable. What if there were more?\n",
    "\n",
    "# Gradient Descent\n",
    "if there would be n variables,\n",
    "\n",
    "y = c + m1x1 + m2x2 + .... mnxn\n",
    "\n",
    "it will not be possible or very very very tedious for us to find the best fit line using the above method.\n",
    "\n",
    "The gradient descent algorithm will help us to make this possible"
   ]
  },
  {
   "cell_type": "markdown",
   "id": "8ac43ce0",
   "metadata": {},
   "source": []
  }
 ],
 "metadata": {
  "interpreter": {
   "hash": "fef408619373f04992cfb391c4d87344bc989b9736d0a2066268594df182c6d3"
  },
  "kernelspec": {
   "display_name": "Python 3.9.7 64-bit ('base': conda)",
   "language": "python",
   "name": "python3"
  },
  "language_info": {
   "codemirror_mode": {
    "name": "ipython",
    "version": 3
   },
   "file_extension": ".py",
   "mimetype": "text/x-python",
   "name": "python",
   "nbconvert_exporter": "python",
   "pygments_lexer": "ipython3",
   "version": "3.9.7"
  }
 },
 "nbformat": 4,
 "nbformat_minor": 5
}
